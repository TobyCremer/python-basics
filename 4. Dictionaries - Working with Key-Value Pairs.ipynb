{
 "cells": [
  {
   "cell_type": "markdown",
   "metadata": {},
   "source": [
    "## Dictionaries - Working with Key Value Pairs"
   ]
  },
  {
   "cell_type": "code",
   "execution_count": 1,
   "metadata": {},
   "outputs": [
    {
     "name": "stdout",
     "output_type": "stream",
     "text": [
      "{'name': 'Toby', 'age': 21, 'course': 'Data Science'}\n"
     ]
    }
   ],
   "source": [
    "# create a varible student\n",
    "# adding name, age and course\n",
    "\n",
    "student = {'name': 'Toby', 'age': 21, 'course': 'Data Science'}\n",
    "print(student)"
   ]
  },
  {
   "cell_type": "code",
   "execution_count": 3,
   "metadata": {},
   "outputs": [
    {
     "name": "stdout",
     "output_type": "stream",
     "text": [
      "Toby\n"
     ]
    }
   ],
   "source": [
    "# specify the key to access the value\n",
    "\n",
    "print(student['name'])"
   ]
  },
  {
   "cell_type": "code",
   "execution_count": 4,
   "metadata": {},
   "outputs": [
    {
     "ename": "KeyError",
     "evalue": "'phone'",
     "output_type": "error",
     "traceback": [
      "\u001b[0;31m---------------------------------------------------------------------------\u001b[0m",
      "\u001b[0;31mKeyError\u001b[0m                                  Traceback (most recent call last)",
      "\u001b[0;32m<ipython-input-4-5cd6ea9b5551>\u001b[0m in \u001b[0;36m<module>\u001b[0;34m\u001b[0m\n\u001b[0;32m----> 1\u001b[0;31m \u001b[0mprint\u001b[0m\u001b[0;34m(\u001b[0m\u001b[0mstudent\u001b[0m\u001b[0;34m[\u001b[0m\u001b[0;34m'phone'\u001b[0m\u001b[0;34m]\u001b[0m\u001b[0;34m)\u001b[0m\u001b[0;34m\u001b[0m\u001b[0;34m\u001b[0m\u001b[0m\n\u001b[0m",
      "\u001b[0;31mKeyError\u001b[0m: 'phone'"
     ]
    }
   ],
   "source": [
    "print(student['phone'])\n",
    "\n",
    "# this will throw a key error as there is no such key"
   ]
  },
  {
   "cell_type": "code",
   "execution_count": 13,
   "metadata": {},
   "outputs": [
    {
     "name": "stdout",
     "output_type": "stream",
     "text": [
      "Toby\n",
      "None\n",
      "Not Found\n"
     ]
    }
   ],
   "source": [
    "# if you dont want an error to occur you can use the get method\n",
    "\n",
    "print(student.get('name'))\n",
    "print(student.get('phone'))\n",
    "print(student.get('phone', 'Not Found'))"
   ]
  },
  {
   "cell_type": "code",
   "execution_count": 21,
   "metadata": {},
   "outputs": [
    {
     "name": "stdout",
     "output_type": "stream",
     "text": [
      "{'name': 'Toby', 'age': 21, 'course': 'Data Science', 'phone': '0423-466-112'}\n"
     ]
    }
   ],
   "source": [
    "# to add a new key pair to a dictionary we can set the key and assign the value\n",
    "\n",
    "student['phone'] = '0423-466-112' # note you cant start an int with a zero\n",
    "print(student)"
   ]
  },
  {
   "cell_type": "code",
   "execution_count": 22,
   "metadata": {},
   "outputs": [
    {
     "name": "stdout",
     "output_type": "stream",
     "text": [
      "{'name': 'Fred', 'age': 21, 'course': 'Data Science', 'phone': '0423-466-112'}\n"
     ]
    }
   ],
   "source": [
    "# if the key already exists this wil update the value of the key\n",
    "\n",
    "student['name'] = 'Fred'\n",
    "print(student)"
   ]
  },
  {
   "cell_type": "code",
   "execution_count": 28,
   "metadata": {},
   "outputs": [
    {
     "name": "stdout",
     "output_type": "stream",
     "text": [
      "{'name': 'Toby', 'course': 'Data Science', 'phone': '0423-466-112', 'address': 'Dulwich Hill', 'age': 43}\n"
     ]
    }
   ],
   "source": [
    "# if we want to update multiple key value pairs we can use the update method\n",
    "\n",
    "# this method takes a dictionary\n",
    "\n",
    "student.update({'name': 'Toby', 'age': 43, 'address': 'Dulwich Hill'})\n",
    "print(student)"
   ]
  },
  {
   "cell_type": "code",
   "execution_count": 29,
   "metadata": {},
   "outputs": [
    {
     "name": "stdout",
     "output_type": "stream",
     "text": [
      "{'name': 'Toby', 'course': 'Data Science', 'phone': '0423-466-112', 'address': 'Dulwich Hill'}\n"
     ]
    }
   ],
   "source": [
    "# how to remove or delete values\n",
    "\n",
    "del student['age']\n",
    "print(student)"
   ]
  },
  {
   "cell_type": "code",
   "execution_count": 30,
   "metadata": {},
   "outputs": [
    {
     "name": "stdout",
     "output_type": "stream",
     "text": [
      "Toby\n",
      "{'course': 'Data Science', 'phone': '0423-466-112', 'address': 'Dulwich Hill'}\n"
     ]
    }
   ],
   "source": [
    "# we can also use the pop method\n",
    "\n",
    "name = student.pop('name')\n",
    "print(name)\n",
    "print(student)"
   ]
  },
  {
   "cell_type": "code",
   "execution_count": 31,
   "metadata": {},
   "outputs": [
    {
     "data": {
      "text/plain": [
       "str"
      ]
     },
     "execution_count": 31,
     "metadata": {},
     "output_type": "execute_result"
    }
   ],
   "source": [
    "type(name)"
   ]
  },
  {
   "cell_type": "code",
   "execution_count": 33,
   "metadata": {},
   "outputs": [
    {
     "name": "stdout",
     "output_type": "stream",
     "text": [
      "3\n"
     ]
    }
   ],
   "source": [
    "# we can also use the len function\n",
    "\n",
    "print(len(student))"
   ]
  },
  {
   "cell_type": "code",
   "execution_count": 34,
   "metadata": {},
   "outputs": [
    {
     "name": "stdout",
     "output_type": "stream",
     "text": [
      "dict_keys(['course', 'phone', 'address'])\n"
     ]
    }
   ],
   "source": [
    "# to print out the keys we can use the keys function\n",
    "\n",
    "print(student.keys())"
   ]
  },
  {
   "cell_type": "code",
   "execution_count": 35,
   "metadata": {},
   "outputs": [
    {
     "name": "stdout",
     "output_type": "stream",
     "text": [
      "dict_values(['Data Science', '0423-466-112', 'Dulwich Hill'])\n"
     ]
    }
   ],
   "source": [
    "print(student.values())"
   ]
  },
  {
   "cell_type": "code",
   "execution_count": 36,
   "metadata": {},
   "outputs": [
    {
     "name": "stdout",
     "output_type": "stream",
     "text": [
      "dict_items([('course', 'Data Science'), ('phone', '0423-466-112'), ('address', 'Dulwich Hill')])\n"
     ]
    }
   ],
   "source": [
    "# we can also see all the functions that can be used on the student dictionary\n",
    "\n",
    "# this is done by using TAB\n",
    "\n",
    "print(student.items())"
   ]
  },
  {
   "cell_type": "code",
   "execution_count": 40,
   "metadata": {},
   "outputs": [
    {
     "name": "stdout",
     "output_type": "stream",
     "text": [
      "course\n",
      "phone\n",
      "address\n"
     ]
    }
   ],
   "source": [
    "# for looping in dictionaries we need to use the item function\n",
    "\n",
    "for keys in student:\n",
    "    print(keys)"
   ]
  },
  {
   "cell_type": "code",
   "execution_count": 42,
   "metadata": {},
   "outputs": [
    {
     "name": "stdout",
     "output_type": "stream",
     "text": [
      "('course', 'Data Science')\n",
      "('phone', '0423-466-112')\n",
      "('address', 'Dulwich Hill')\n"
     ]
    }
   ],
   "source": [
    "for keys in student.items():\n",
    "    print(keys)"
   ]
  },
  {
   "cell_type": "code",
   "execution_count": 45,
   "metadata": {},
   "outputs": [
    {
     "name": "stdout",
     "output_type": "stream",
     "text": [
      "course Data Science\n",
      "phone 0423-466-112\n",
      "address Dulwich Hill\n"
     ]
    }
   ],
   "source": [
    "for keys, values in student.items():\n",
    "    print(keys, values)"
   ]
  },
  {
   "cell_type": "code",
   "execution_count": null,
   "metadata": {},
   "outputs": [],
   "source": []
  }
 ],
 "metadata": {
  "kernelspec": {
   "display_name": "Python 3",
   "language": "python",
   "name": "python3"
  },
  "language_info": {
   "codemirror_mode": {
    "name": "ipython",
    "version": 3
   },
   "file_extension": ".py",
   "mimetype": "text/x-python",
   "name": "python",
   "nbconvert_exporter": "python",
   "pygments_lexer": "ipython3",
   "version": "3.7.4"
  }
 },
 "nbformat": 4,
 "nbformat_minor": 2
}
