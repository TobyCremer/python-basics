{
 "cells": [
  {
   "cell_type": "markdown",
   "metadata": {},
   "source": [
    "## Conditionals and Booleans, If, Else and Elif Statements"
   ]
  },
  {
   "cell_type": "code",
   "execution_count": 1,
   "metadata": {},
   "outputs": [],
   "source": [
    "# We can control what statements get executed through Boolean statements\n",
    "\n",
    "# Booleans evaluate to True or False"
   ]
  },
  {
   "cell_type": "code",
   "execution_count": 12,
   "metadata": {},
   "outputs": [
    {
     "name": "stdout",
     "output_type": "stream",
     "text": [
      "Conditional was True\n"
     ]
    }
   ],
   "source": [
    "# this will only print out of the condition after our if statement is True\n",
    "\n",
    "# in this example we have assigned it to True\n",
    "\n",
    "if True:\n",
    "    print('Conditional was True')"
   ]
  },
  {
   "cell_type": "code",
   "execution_count": 13,
   "metadata": {},
   "outputs": [],
   "source": [
    "# this will not print out as the statement is not true\n",
    "\n",
    "# the condition has been assigned to False\n",
    "\n",
    "if False:\n",
    "    print('Conditional was True')"
   ]
  },
  {
   "cell_type": "code",
   "execution_count": 14,
   "metadata": {},
   "outputs": [
    {
     "name": "stdout",
     "output_type": "stream",
     "text": [
      "Condition was True\n"
     ]
    }
   ],
   "source": [
    "# set a varibale to run a if statement to test if it is true\n",
    "\n",
    "language = 'Python'\n",
    "\n",
    "if language == 'Python':\n",
    "    print(\"Condition was True\")"
   ]
  },
  {
   "cell_type": "code",
   "execution_count": 31,
   "metadata": {},
   "outputs": [],
   "source": [
    "# Comparisions:\n",
    "# Equal ==\n",
    "# Not Equal !=\n",
    "# Greater than >\n",
    "# Less than <\n",
    "# Greater or equal >=\n",
    "# Less or equal <=\n",
    "\n",
    "# NEW ONE\n",
    "# Object Identity 'is'  # checks if they are the same objects in memory\n",
    "\n",
    "# two objects can be equal but not the same in memeory (we will look at this abit later)"
   ]
  },
  {
   "cell_type": "code",
   "execution_count": 17,
   "metadata": {},
   "outputs": [
    {
     "name": "stdout",
     "output_type": "stream",
     "text": [
      "Lanugage is Python\n"
     ]
    }
   ],
   "source": [
    "# here we are using an else statment with the if statement\n",
    "\n",
    "if language == 'Python':\n",
    "    print(\"Language is Python\")\n",
    "else:\n",
    "    print(\"Language is not Python\")"
   ]
  },
  {
   "cell_type": "code",
   "execution_count": 20,
   "metadata": {},
   "outputs": [
    {
     "name": "stdout",
     "output_type": "stream",
     "text": [
      "Language is not Python\n"
     ]
    }
   ],
   "source": [
    "language = 'C++'\n",
    "\n",
    "if language == 'Python':\n",
    "    print(\"Language is Python\")\n",
    "else:\n",
    "    print(\"Language is not Python\")"
   ]
  },
  {
   "cell_type": "code",
   "execution_count": 21,
   "metadata": {},
   "outputs": [
    {
     "name": "stdout",
     "output_type": "stream",
     "text": [
      "Language is Java\n"
     ]
    }
   ],
   "source": [
    "# we can now use an elif (else,if) statement to add more conditions\n",
    "\n",
    "language = 'Java'\n",
    "\n",
    "if language == 'Python':\n",
    "    print(\"Language is Python\")\n",
    "elif language == 'C++':\n",
    "    print(\"Language is C++\")\n",
    "elif language == 'Java':\n",
    "    print(\"Language is Java\")\n",
    "else:\n",
    "    print(\"Language is unknown\")"
   ]
  },
  {
   "cell_type": "code",
   "execution_count": null,
   "metadata": {},
   "outputs": [],
   "source": [
    "# we also have boolean operations we can use\n",
    "# and\n",
    "# or\n",
    "# not"
   ]
  },
  {
   "cell_type": "code",
   "execution_count": 22,
   "metadata": {},
   "outputs": [],
   "source": [
    "user = 'Admin'\n",
    "logged_in = True"
   ]
  },
  {
   "cell_type": "code",
   "execution_count": 23,
   "metadata": {},
   "outputs": [
    {
     "name": "stdout",
     "output_type": "stream",
     "text": [
      "Admin Page\n"
     ]
    }
   ],
   "source": [
    "# now what happens if we want to set some code to only run if the user is set to Admini\n",
    "# and the user is logged in\n",
    "\n",
    "if user == 'Admin' and logged_in:\n",
    "    print('Admin Page')\n",
    "else:\n",
    "    print('Access Denied')"
   ]
  },
  {
   "cell_type": "code",
   "execution_count": 26,
   "metadata": {},
   "outputs": [
    {
     "name": "stdout",
     "output_type": "stream",
     "text": [
      "Access Denied\n"
     ]
    }
   ],
   "source": [
    "# however lets now change the variable user to a new name\n",
    "\n",
    "user = 'Toby'\n",
    "logged_in = True\n",
    "\n",
    "if user == 'Admin' and logged_in:\n",
    "    print('Admin Page')\n",
    "else:\n",
    "    print('Access Denied')"
   ]
  },
  {
   "cell_type": "code",
   "execution_count": 27,
   "metadata": {},
   "outputs": [
    {
     "name": "stdout",
     "output_type": "stream",
     "text": [
      "Admin Page\n"
     ]
    }
   ],
   "source": [
    "# what happens if we change this to the or statement\n",
    "# using this only one needs to be true\n",
    "\n",
    "user = 'Toby'\n",
    "logged_in = True\n",
    "\n",
    "if user == 'Admin' or logged_in:\n",
    "    print('Admin Page')\n",
    "else:\n",
    "    print('Access Denied')"
   ]
  },
  {
   "cell_type": "code",
   "execution_count": 29,
   "metadata": {},
   "outputs": [
    {
     "name": "stdout",
     "output_type": "stream",
     "text": [
      "Welcome\n"
     ]
    }
   ],
   "source": [
    "# what dose not do???\n",
    "# it is used to switch the boolean from either True to False or False to True\n",
    "\n",
    "if not logged_in:\n",
    "    print('Please Log In')\n",
    "else:\n",
    "    print('Welcome') "
   ]
  },
  {
   "cell_type": "code",
   "execution_count": 33,
   "metadata": {},
   "outputs": [
    {
     "name": "stdout",
     "output_type": "stream",
     "text": [
      "True\n",
      "False\n"
     ]
    }
   ],
   "source": [
    "# using the is function versus looking at equality\n",
    "\n",
    "a = [1, 2, 3]\n",
    "b = [1, 2, 3]\n",
    "\n",
    "print(a == b)\n",
    "print(a is b)"
   ]
  },
  {
   "cell_type": "code",
   "execution_count": 34,
   "metadata": {},
   "outputs": [
    {
     "name": "stdout",
     "output_type": "stream",
     "text": [
      "4488704320\n",
      "4488704240\n"
     ]
    }
   ],
   "source": [
    "# checking the id in memory\n",
    "\n",
    "print(id(a))\n",
    "print(id(b))"
   ]
  },
  {
   "cell_type": "code",
   "execution_count": 35,
   "metadata": {},
   "outputs": [
    {
     "name": "stdout",
     "output_type": "stream",
     "text": [
      "False\n"
     ]
    }
   ],
   "source": [
    "print(id(a) == id(b))"
   ]
  },
  {
   "cell_type": "code",
   "execution_count": null,
   "metadata": {},
   "outputs": [],
   "source": [
    "# What does Python evaluate to True and False ??\n",
    "\n",
    "# False\n",
    "# None\n",
    "# Zero of any numeric type\n",
    "# any empty sequence eg string, list, tuple\n",
    "# any empty mapping eg diction\n"
   ]
  },
  {
   "cell_type": "code",
   "execution_count": 38,
   "metadata": {},
   "outputs": [
    {
     "name": "stdout",
     "output_type": "stream",
     "text": [
      "Evaluated to False\n"
     ]
    }
   ],
   "source": [
    "condition = False\n",
    "\n",
    "if condition:\n",
    "    print('Evaluated to True')\n",
    "else:\n",
    "    print('Evaluated to False')"
   ]
  },
  {
   "cell_type": "code",
   "execution_count": 39,
   "metadata": {},
   "outputs": [
    {
     "name": "stdout",
     "output_type": "stream",
     "text": [
      "Evaluated to False\n"
     ]
    }
   ],
   "source": [
    "condition = None\n",
    "\n",
    "if condition:\n",
    "    print('Evaluated to True')\n",
    "else:\n",
    "    print('Evaluated to False')"
   ]
  },
  {
   "cell_type": "code",
   "execution_count": 42,
   "metadata": {},
   "outputs": [
    {
     "name": "stdout",
     "output_type": "stream",
     "text": [
      "Evaluated to False\n"
     ]
    }
   ],
   "source": [
    "condition = 0\n",
    "\n",
    "if condition:\n",
    "    print('Evaluated to True')\n",
    "else:\n",
    "    print('Evaluated to False')"
   ]
  },
  {
   "cell_type": "code",
   "execution_count": 43,
   "metadata": {},
   "outputs": [
    {
     "name": "stdout",
     "output_type": "stream",
     "text": [
      "Evaluated to False\n"
     ]
    }
   ],
   "source": [
    "condition = []\n",
    "\n",
    "if condition:\n",
    "    print('Evaluated to True')\n",
    "else:\n",
    "    print('Evaluated to False')"
   ]
  },
  {
   "cell_type": "code",
   "execution_count": null,
   "metadata": {},
   "outputs": [],
   "source": [
    "# empty mapping is an empty dictionary"
   ]
  }
 ],
 "metadata": {
  "kernelspec": {
   "display_name": "Python 3",
   "language": "python",
   "name": "python3"
  },
  "language_info": {
   "codemirror_mode": {
    "name": "ipython",
    "version": 3
   },
   "file_extension": ".py",
   "mimetype": "text/x-python",
   "name": "python",
   "nbconvert_exporter": "python",
   "pygments_lexer": "ipython3",
   "version": "3.7.4"
  }
 },
 "nbformat": 4,
 "nbformat_minor": 2
}
