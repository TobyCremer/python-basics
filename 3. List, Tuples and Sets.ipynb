{
 "cells": [
  {
   "cell_type": "markdown",
   "metadata": {},
   "source": [
    "## List, Tuples and Sets"
   ]
  },
  {
   "cell_type": "code",
   "execution_count": 2,
   "metadata": {},
   "outputs": [],
   "source": [
    "# Lists and tuples allow us to work with sequential data\n",
    "# Sets are unordered collection of values without duplicates"
   ]
  },
  {
   "cell_type": "code",
   "execution_count": 2,
   "metadata": {},
   "outputs": [
    {
     "name": "stdout",
     "output_type": "stream",
     "text": [
      "['History', 'Math', 'Physics', 'Computer_Science']\n"
     ]
    }
   ],
   "source": [
    "# creating a list using commas\n",
    "\n",
    "courses = ['History', 'Math', 'Physics', 'Computer_Science']\n",
    "print(courses)"
   ]
  },
  {
   "cell_type": "code",
   "execution_count": 3,
   "metadata": {},
   "outputs": [
    {
     "name": "stdout",
     "output_type": "stream",
     "text": [
      "4\n"
     ]
    }
   ],
   "source": [
    "# this is showing us there are four values in the list\n",
    "\n",
    "print(len(courses))"
   ]
  },
  {
   "cell_type": "code",
   "execution_count": 4,
   "metadata": {},
   "outputs": [
    {
     "name": "stdout",
     "output_type": "stream",
     "text": [
      "History\n",
      "Math\n",
      "Physics\n",
      "Computer_Science\n"
     ]
    }
   ],
   "source": [
    "# we can access each of these values seperatly\n",
    "\n",
    "print(courses[0])\n",
    "print(courses[1])\n",
    "print(courses[2])\n",
    "print(courses[-1])"
   ]
  },
  {
   "cell_type": "code",
   "execution_count": 5,
   "metadata": {},
   "outputs": [
    {
     "name": "stdout",
     "output_type": "stream",
     "text": [
      "['History', 'Physics']\n"
     ]
    }
   ],
   "source": [
    "# slicing\n",
    "\n",
    "print(courses[0:3:2])"
   ]
  },
  {
   "cell_type": "code",
   "execution_count": 6,
   "metadata": {},
   "outputs": [
    {
     "name": "stdout",
     "output_type": "stream",
     "text": [
      "['History', 'Math', 'Physics', 'Computer_Science', 'Art']\n"
     ]
    }
   ],
   "source": [
    "# appending items to a list\n",
    "\n",
    "courses.append('Art')\n",
    "print(courses)"
   ]
  },
  {
   "cell_type": "code",
   "execution_count": 19,
   "metadata": {},
   "outputs": [
    {
     "name": "stdout",
     "output_type": "stream",
     "text": [
      "['History', 'Math', 'Geography', 'Geography', 'Physics', 'Computer_Science', 'Art']\n"
     ]
    }
   ],
   "source": [
    "# inserting an item to a list\n",
    "\n",
    "courses.insert(2, 'Geography')\n",
    "print(courses)"
   ]
  },
  {
   "cell_type": "code",
   "execution_count": 21,
   "metadata": {},
   "outputs": [
    {
     "name": "stdout",
     "output_type": "stream",
     "text": [
      "[['Education', 'Sport'], 'History', 'Math', 'Geography', 'Geography', 'Physics', 'Computer_Science', 'Art']\n"
     ]
    }
   ],
   "source": [
    "# extending is used for adding multiple items to a list\n",
    "\n",
    "courses_2 = ['Education', 'Sport']\n",
    "\n",
    "courses.insert(0, courses_2,)\n",
    "print(courses)\n",
    "\n",
    "# this gives us a list in a list"
   ]
  },
  {
   "cell_type": "code",
   "execution_count": 23,
   "metadata": {},
   "outputs": [
    {
     "name": "stdout",
     "output_type": "stream",
     "text": [
      "['History', 'Math', 'Physics', 'Computer_Science', 'Education', 'Sport']\n"
     ]
    }
   ],
   "source": [
    "# therefore we use the extend option\n",
    "\n",
    "courses = ['History', 'Math', 'Physics', 'Computer_Science']\n",
    "courses_2 = ['Education', 'Sport']\n",
    "\n",
    "courses.extend(courses_2)\n",
    "print(courses)"
   ]
  },
  {
   "cell_type": "code",
   "execution_count": 24,
   "metadata": {},
   "outputs": [
    {
     "name": "stdout",
     "output_type": "stream",
     "text": [
      "['History', 'Physics', 'Computer_Science', 'Education', 'Sport']\n"
     ]
    }
   ],
   "source": [
    "# removing items from a list\n",
    "\n",
    "courses.remove('Math')\n",
    "print(courses)"
   ]
  },
  {
   "cell_type": "code",
   "execution_count": 25,
   "metadata": {},
   "outputs": [
    {
     "name": "stdout",
     "output_type": "stream",
     "text": [
      "['History', 'Physics', 'Computer_Science', 'Education']\n"
     ]
    }
   ],
   "source": [
    "# this will pop an itme from the list with the default being the last item\n",
    "\n",
    "courses.pop()\n",
    "print(courses)\n",
    "\n",
    "# you can now see that Sport has been removed from the list"
   ]
  },
  {
   "cell_type": "code",
   "execution_count": 27,
   "metadata": {},
   "outputs": [
    {
     "name": "stdout",
     "output_type": "stream",
     "text": [
      "Education\n"
     ]
    }
   ],
   "source": [
    "# pop can be used in a function to remove the last item \n",
    "\n",
    "popped = courses.pop()\n",
    "print(popped)"
   ]
  },
  {
   "cell_type": "code",
   "execution_count": 28,
   "metadata": {},
   "outputs": [
    {
     "name": "stdout",
     "output_type": "stream",
     "text": [
      "['Computer_Science', 'Physics', 'History']\n"
     ]
    }
   ],
   "source": [
    "# how to reverse the items of a string\n",
    "\n",
    "courses.reverse()\n",
    "print(courses)"
   ]
  },
  {
   "cell_type": "code",
   "execution_count": 29,
   "metadata": {},
   "outputs": [
    {
     "name": "stdout",
     "output_type": "stream",
     "text": [
      "['Computer_Science', 'History', 'Physics']\n"
     ]
    }
   ],
   "source": [
    "# sorting a list with the sort function\n",
    "\n",
    "# default sorts in alphabetical order\n",
    "\n",
    "courses.sort()\n",
    "print(courses)"
   ]
  },
  {
   "cell_type": "code",
   "execution_count": 32,
   "metadata": {},
   "outputs": [
    {
     "name": "stdout",
     "output_type": "stream",
     "text": [
      "['Physics', 'History', 'Computer_Science']\n"
     ]
    }
   ],
   "source": [
    "# to sort in reverse alphabetical we use the reverse = True argument\n",
    "\n",
    "courses.sort(reverse=True)\n",
    "print(courses)"
   ]
  },
  {
   "cell_type": "code",
   "execution_count": 35,
   "metadata": {},
   "outputs": [
    {
     "name": "stdout",
     "output_type": "stream",
     "text": [
      "[0, 1, 2, 4, 7, 8]\n",
      "[8, 7, 4, 2, 1, 0]\n"
     ]
    }
   ],
   "source": [
    "# This can also be used with numerical lists\n",
    "\n",
    "nums = [1, 4, 8, 2, 7, 0]\n",
    "nums.sort()\n",
    "print(nums)\n",
    "\n",
    "nums.sort(reverse=True)\n",
    "print(nums)"
   ]
  },
  {
   "cell_type": "code",
   "execution_count": 36,
   "metadata": {},
   "outputs": [
    {
     "data": {
      "text/plain": [
       "['Computer_Science', 'History', 'Physics']"
      ]
     },
     "execution_count": 36,
     "metadata": {},
     "output_type": "execute_result"
    }
   ],
   "source": [
    "# we dont need to reset our variable when we call most of these methods\n",
    "# there have set the variable in place\n",
    "\n",
    "# however there is a way to get a sorted list without changing the list in place\n",
    "\n",
    "# now we can use the sorted 'function'\n",
    "\n",
    "sorted(courses)"
   ]
  },
  {
   "cell_type": "code",
   "execution_count": 38,
   "metadata": {},
   "outputs": [
    {
     "name": "stdout",
     "output_type": "stream",
     "text": [
      "['Computer_Science', 'History', 'Physics']\n"
     ]
    }
   ],
   "source": [
    "sorted_courses = sorted(courses)\n",
    "print(sorted_courses)\n",
    "\n",
    "# this is useful when we dont want to alter the original list however need a \n",
    "# sorted list"
   ]
  },
  {
   "cell_type": "code",
   "execution_count": 41,
   "metadata": {},
   "outputs": [
    {
     "name": "stdout",
     "output_type": "stream",
     "text": [
      "6\n",
      "0\n",
      "8\n",
      "22\n"
     ]
    }
   ],
   "source": [
    "# other similar funstions are:\n",
    "# sum()\n",
    "# min()\n",
    "# max()\n",
    "\n",
    "print(len(nums))\n",
    "print(min(nums))\n",
    "print(max(nums))\n",
    "print(sum(nums))"
   ]
  },
  {
   "cell_type": "code",
   "execution_count": 44,
   "metadata": {},
   "outputs": [
    {
     "name": "stdout",
     "output_type": "stream",
     "text": [
      "2\n",
      "1\n",
      "0\n"
     ]
    }
   ],
   "source": [
    "# we can use the index method to find the index item of a list\n",
    "\n",
    "print(courses.index('Computer_Science'))\n",
    "print(courses.index('History'))\n",
    "print(courses.index('Physics'))"
   ]
  },
  {
   "cell_type": "code",
   "execution_count": 46,
   "metadata": {},
   "outputs": [
    {
     "name": "stdout",
     "output_type": "stream",
     "text": [
      "False\n"
     ]
    }
   ],
   "source": [
    "# we can also use an in operator to check if an item is in the list\n",
    "\n",
    "print('Math' in courses)"
   ]
  },
  {
   "cell_type": "code",
   "execution_count": 7,
   "metadata": {},
   "outputs": [
    {
     "data": {
      "text/plain": [
       "['History', 'Math', 'Physics', 'Computer_Science', 'Art']"
      ]
     },
     "execution_count": 7,
     "metadata": {},
     "output_type": "execute_result"
    }
   ],
   "source": [
    "courses"
   ]
  },
  {
   "cell_type": "code",
   "execution_count": 11,
   "metadata": {},
   "outputs": [
    {
     "name": "stdout",
     "output_type": "stream",
     "text": [
      "History\n",
      "Math\n",
      "Physics\n",
      "Computer_Science\n",
      "Art\n"
     ]
    }
   ],
   "source": [
    "# this is the start of creating for loops\n",
    "\n",
    "\n",
    "\n",
    "# this is a loop for looking for the courses in the course list\n",
    "for course in courses:\n",
    "    print(course)"
   ]
  },
  {
   "cell_type": "code",
   "execution_count": 12,
   "metadata": {},
   "outputs": [
    {
     "name": "stdout",
     "output_type": "stream",
     "text": [
      "(1, 'History')\n",
      "(2, 'Math')\n",
      "(3, 'Physics')\n",
      "(4, 'Computer_Science')\n",
      "(5, 'Art')\n"
     ]
    }
   ],
   "source": [
    "# another handy function is enumerate\n",
    "# this function will return the value and the index\n",
    "\n",
    "for item in enumerate(courses, start=1):\n",
    "    print(item)"
   ]
  },
  {
   "cell_type": "code",
   "execution_count": 53,
   "metadata": {},
   "outputs": [
    {
     "name": "stdout",
     "output_type": "stream",
     "text": [
      "0 Physics\n",
      "1 History\n",
      "2 Computer_Science\n"
     ]
    }
   ],
   "source": [
    "for index, item in enumerate(courses):\n",
    "    print(index, item)"
   ]
  },
  {
   "cell_type": "code",
   "execution_count": 54,
   "metadata": {},
   "outputs": [
    {
     "name": "stdout",
     "output_type": "stream",
     "text": [
      "1 Physics\n",
      "2 History\n",
      "3 Computer_Science\n"
     ]
    }
   ],
   "source": [
    "# applying the start argument\n",
    "\n",
    "for index, item in enumerate(courses, start=1):\n",
    "    print(index, item)"
   ]
  },
  {
   "cell_type": "code",
   "execution_count": 14,
   "metadata": {},
   "outputs": [
    {
     "name": "stdout",
     "output_type": "stream",
     "text": [
      "History - Math - Physics - Computer_Science - Art\n"
     ]
    }
   ],
   "source": [
    "# turning a list into a string seperated by a certain value\n",
    "# we can use a string method called join and pass in the list as our arguement\n",
    "\n",
    "courses_str = ' - '.join(courses)\n",
    "print(courses_str)\n"
   ]
  },
  {
   "cell_type": "code",
   "execution_count": 59,
   "metadata": {},
   "outputs": [
    {
     "name": "stdout",
     "output_type": "stream",
     "text": [
      "['Physics', 'History', 'Computer_Science']\n"
     ]
    }
   ],
   "source": [
    "# we can now retun this to a list by using the split method\n",
    "\n",
    "new_list = courses_str.split(' - ')\n",
    "print(new_list)"
   ]
  },
  {
   "cell_type": "code",
   "execution_count": 61,
   "metadata": {},
   "outputs": [
    {
     "name": "stdout",
     "output_type": "stream",
     "text": [
      "['Computer_Science', 'History', 'Physics']\n",
      "['Computer_Science', 'History', 'Physics']\n"
     ]
    }
   ],
   "source": [
    "# moving on to tuples , simliar to lists but one major difference\n",
    "# you can't can tuples, they are immutable whereas list are mutable\n",
    "\n",
    "# lets look at a list again\n",
    "\n",
    "list_1 = ['Computer_Science', 'History', 'Physics']\n",
    "list_2 = list_1\n",
    "\n",
    "print(list_1)\n",
    "print(list_2)"
   ]
  },
  {
   "cell_type": "code",
   "execution_count": 63,
   "metadata": {},
   "outputs": [
    {
     "name": "stdout",
     "output_type": "stream",
     "text": [
      "['Art', 'History', 'Physics']\n",
      "['Art', 'History', 'Physics']\n"
     ]
    }
   ],
   "source": [
    "# If we make changes to list one as list 2 is set as list one both will change\n",
    "\n",
    "list_1[0] = 'Art'\n",
    "\n",
    "print(list_1)\n",
    "print(list_2)"
   ]
  },
  {
   "cell_type": "code",
   "execution_count": 65,
   "metadata": {},
   "outputs": [
    {
     "name": "stdout",
     "output_type": "stream",
     "text": [
      "('Computer_Science', 'History', 'Physics')\n",
      "('Computer_Science', 'History', 'Physics')\n"
     ]
    }
   ],
   "source": [
    "# tuple example\n",
    "\n",
    "tuple_1 = ('Computer_Science', 'History', 'Physics')\n",
    "tuple_2 = tuple_1\n",
    "\n",
    "print(tuple_1)\n",
    "print(tuple_2)"
   ]
  },
  {
   "cell_type": "code",
   "execution_count": 66,
   "metadata": {},
   "outputs": [
    {
     "ename": "TypeError",
     "evalue": "'tuple' object does not support item assignment",
     "output_type": "error",
     "traceback": [
      "\u001b[0;31m---------------------------------------------------------------------------\u001b[0m",
      "\u001b[0;31mTypeError\u001b[0m                                 Traceback (most recent call last)",
      "\u001b[0;32m<ipython-input-66-12a37f3cadd2>\u001b[0m in \u001b[0;36m<module>\u001b[0;34m\u001b[0m\n\u001b[0;32m----> 1\u001b[0;31m \u001b[0mtuple_1\u001b[0m\u001b[0;34m[\u001b[0m\u001b[0;36m0\u001b[0m\u001b[0;34m]\u001b[0m \u001b[0;34m=\u001b[0m \u001b[0;34m'Art'\u001b[0m\u001b[0;34m\u001b[0m\u001b[0;34m\u001b[0m\u001b[0m\n\u001b[0m\u001b[1;32m      2\u001b[0m \u001b[0;34m\u001b[0m\u001b[0m\n\u001b[1;32m      3\u001b[0m \u001b[0mprint\u001b[0m\u001b[0;34m(\u001b[0m\u001b[0mtuple_1\u001b[0m\u001b[0;34m)\u001b[0m\u001b[0;34m\u001b[0m\u001b[0;34m\u001b[0m\u001b[0m\n\u001b[1;32m      4\u001b[0m \u001b[0mprint\u001b[0m\u001b[0;34m(\u001b[0m\u001b[0mtuple_2\u001b[0m\u001b[0;34m)\u001b[0m\u001b[0;34m\u001b[0m\u001b[0;34m\u001b[0m\u001b[0m\n",
      "\u001b[0;31mTypeError\u001b[0m: 'tuple' object does not support item assignment"
     ]
    }
   ],
   "source": [
    "tuple_1[0] = 'Art'\n",
    "\n",
    "print(tuple_1)\n",
    "print(tuple_2)\n",
    "\n",
    "# as a tuple is not immutable the list functions will not work"
   ]
  },
  {
   "cell_type": "code",
   "execution_count": 79,
   "metadata": {},
   "outputs": [
    {
     "name": "stdout",
     "output_type": "stream",
     "text": [
      "{'Computer_Science', 'Geography', 'Physics', 'Arts', 'History', 'Math'}\n"
     ]
    }
   ],
   "source": [
    "# Lets look at sets\n",
    "# they are values which are unorded and have no duplicates\n",
    "# they can appear in any order \n",
    "\n",
    "cs_courses = {'Computer_Science', 'History', 'Physics', 'Arts', 'Math', 'Geography'}\n",
    "\n",
    "print(cs_courses)"
   ]
  },
  {
   "cell_type": "code",
   "execution_count": 80,
   "metadata": {},
   "outputs": [
    {
     "name": "stdout",
     "output_type": "stream",
     "text": [
      "{'Computer_Science', 'Geography', 'Physics', 'Arts', 'History', 'Math'}\n"
     ]
    }
   ],
   "source": [
    "# uses for sets are to test wether a value is part of a set\n",
    "# or to remove duplicate values (sets throw away duplicates)\n",
    "\n",
    "cs_courses = {'Computer_Science', 'History', 'Physics', 'Arts', 'Math', 'Geography', 'Math'}\n",
    "\n",
    "print(cs_courses)"
   ]
  },
  {
   "cell_type": "code",
   "execution_count": 81,
   "metadata": {},
   "outputs": [
    {
     "name": "stdout",
     "output_type": "stream",
     "text": [
      "True\n"
     ]
    }
   ],
   "source": [
    "# use to test if a value is part of a test\n",
    "# this is a membership test\n",
    "# sets do this mo efficently than lists and tuples\n",
    "# sets are designed to for this can can return this quickly\n",
    "\n",
    "print('Math' in cs_courses)"
   ]
  },
  {
   "cell_type": "code",
   "execution_count": 82,
   "metadata": {},
   "outputs": [],
   "source": [
    "# sets can also do this between sets\n",
    "\n",
    "courses_one = {'Computer_Science', 'Science', 'Physics', 'Arts', 'Math', 'Geography', 'Math'}\n",
    "courses_two = {'Computer_Science', 'Music', 'Math', 'Arts', 'History', 'Geography', 'Math', 'Nursing'}"
   ]
  },
  {
   "cell_type": "code",
   "execution_count": 83,
   "metadata": {},
   "outputs": [
    {
     "name": "stdout",
     "output_type": "stream",
     "text": [
      "{'Computer_Science', 'Geography', 'Math', 'Arts'}\n"
     ]
    }
   ],
   "source": [
    "print(courses_one.intersection(courses_two))"
   ]
  },
  {
   "cell_type": "code",
   "execution_count": 84,
   "metadata": {},
   "outputs": [
    {
     "name": "stdout",
     "output_type": "stream",
     "text": [
      "{'Physics', 'Science'}\n"
     ]
    }
   ],
   "source": [
    "print(courses_one.difference(courses_two))"
   ]
  },
  {
   "cell_type": "code",
   "execution_count": 90,
   "metadata": {},
   "outputs": [
    {
     "name": "stdout",
     "output_type": "stream",
     "text": [
      "{'Physics', 'Science', 'Sport', 'Arts', 'Education', 'Computer_Science', 'Geography', 'Math'}\n"
     ]
    }
   ],
   "source": [
    "print(courses_one.union(courses_2))"
   ]
  },
  {
   "cell_type": "code",
   "execution_count": 89,
   "metadata": {},
   "outputs": [
    {
     "ename": "AttributeError",
     "evalue": "'list' object has no attribute 'difference'",
     "output_type": "error",
     "traceback": [
      "\u001b[0;31m---------------------------------------------------------------------------\u001b[0m",
      "\u001b[0;31mAttributeError\u001b[0m                            Traceback (most recent call last)",
      "\u001b[0;32m<ipython-input-89-c2533d5fa2ab>\u001b[0m in \u001b[0;36m<module>\u001b[0;34m\u001b[0m\n\u001b[0;32m----> 1\u001b[0;31m \u001b[0mcourses\u001b[0m\u001b[0;34m.\u001b[0m\u001b[0mdifference\u001b[0m\u001b[0;34m(\u001b[0m\u001b[0mcourses_2\u001b[0m\u001b[0;34m)\u001b[0m\u001b[0;34m\u001b[0m\u001b[0;34m\u001b[0m\u001b[0m\n\u001b[0m",
      "\u001b[0;31mAttributeError\u001b[0m: 'list' object has no attribute 'difference'"
     ]
    }
   ],
   "source": [
    "courses.difference(courses_2)"
   ]
  },
  {
   "cell_type": "code",
   "execution_count": null,
   "metadata": {},
   "outputs": [],
   "source": [
    "# creating empty lists, tuples and sets\n",
    "\n",
    "empty_list = []\n",
    "empty_list = list() # we can use this list class\n",
    "\n",
    "empty_tuple = ()\n",
    "empty_tuple = tuple() # we can use the tuple class\n",
    "\n",
    "empty_set = {} #this however creates a dictionary (unorded, key value, pairs)\n",
    "empty_set = set()\n"
   ]
  }
 ],
 "metadata": {
  "kernelspec": {
   "display_name": "Python 3",
   "language": "python",
   "name": "python3"
  },
  "language_info": {
   "codemirror_mode": {
    "name": "ipython",
    "version": 3
   },
   "file_extension": ".py",
   "mimetype": "text/x-python",
   "name": "python",
   "nbconvert_exporter": "python",
   "pygments_lexer": "ipython3",
   "version": "3.7.4"
  }
 },
 "nbformat": 4,
 "nbformat_minor": 2
}
