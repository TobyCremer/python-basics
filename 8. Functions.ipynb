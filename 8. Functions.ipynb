{
 "cells": [
  {
   "cell_type": "markdown",
   "metadata": {},
   "source": [
    "## Functions"
   ]
  },
  {
   "cell_type": "code",
   "execution_count": 1,
   "metadata": {},
   "outputs": [],
   "source": [
    "# Functions are basically some instructions packaged together that perform a specific task\n",
    "\n",
    "# functions allow us to reuse pieces of code without having to repeate ourselves\n",
    "\n",
    "\n",
    "# to create functions we used the def keyword (definition)\n",
    "\n",
    "# you can use the pass keyword which passes the function and won't throw an error\n",
    "\n",
    "def hello_func():\n",
    "    pass"
   ]
  },
  {
   "cell_type": "code",
   "execution_count": 5,
   "metadata": {},
   "outputs": [],
   "source": [
    "# to run a function we simply call the function\n",
    "\n",
    "hello_func()"
   ]
  },
  {
   "cell_type": "code",
   "execution_count": 3,
   "metadata": {},
   "outputs": [
    {
     "data": {
      "text/plain": [
       "function"
      ]
     },
     "execution_count": 3,
     "metadata": {},
     "output_type": "execute_result"
    }
   ],
   "source": [
    "type(hello_func)"
   ]
  },
  {
   "cell_type": "code",
   "execution_count": 8,
   "metadata": {},
   "outputs": [
    {
     "name": "stdout",
     "output_type": "stream",
     "text": [
      "Hello\n"
     ]
    }
   ],
   "source": [
    "def hello_func():\n",
    "    print('Hello')"
   ]
  },
  {
   "cell_type": "code",
   "execution_count": 10,
   "metadata": {},
   "outputs": [
    {
     "name": "stdout",
     "output_type": "stream",
     "text": [
      "Hello\n"
     ]
    }
   ],
   "source": [
    "hello_func()"
   ]
  },
  {
   "cell_type": "code",
   "execution_count": 11,
   "metadata": {},
   "outputs": [],
   "source": [
    "# what is the benifit of using functions??\n",
    "# they allow us to have one place which needs to be updated if any future chnages are made\n",
    "# DRY (Dont Repeat yourself)"
   ]
  },
  {
   "cell_type": "code",
   "execution_count": 18,
   "metadata": {},
   "outputs": [],
   "source": [
    "# now lets look at the return keyword in a function\n",
    "\n",
    "def hello_func():\n",
    "    return'Hello'\n",
    "\n",
    "print(hello_func())\n",
    "\n",
    "# this function is returning a string therefore we can use string operations\n"
   ]
  },
  {
   "cell_type": "code",
   "execution_count": 26,
   "metadata": {},
   "outputs": [
    {
     "name": "stdout",
     "output_type": "stream",
     "text": [
      "HELLO\n",
      "Hel\n"
     ]
    }
   ],
   "source": [
    "print(hello_func().upper())\n",
    "print(hello_func()[0:3])"
   ]
  },
  {
   "cell_type": "code",
   "execution_count": 30,
   "metadata": {},
   "outputs": [],
   "source": [
    "# Here we are adding an arguement to a function\n",
    "\n",
    "# this will customise the greeting \n",
    "\n",
    "def customised_greeting_func(greeting):\n",
    "    return'{} Function'.format(greeting)"
   ]
  },
  {
   "cell_type": "code",
   "execution_count": 31,
   "metadata": {},
   "outputs": [],
   "source": [
    "def customised_greeting_func(greeting):\n",
    "    return f'{greeting} Function'"
   ]
  },
  {
   "cell_type": "code",
   "execution_count": 32,
   "metadata": {},
   "outputs": [
    {
     "ename": "TypeError",
     "evalue": "greeting_func() missing 1 required positional argument: 'greeting'",
     "output_type": "error",
     "traceback": [
      "\u001b[0;31m---------------------------------------------------------------------------\u001b[0m",
      "\u001b[0;31mTypeError\u001b[0m                                 Traceback (most recent call last)",
      "\u001b[0;32m<ipython-input-32-b7ccc049c50e>\u001b[0m in \u001b[0;36m<module>\u001b[0;34m\u001b[0m\n\u001b[1;32m      1\u001b[0m \u001b[0;31m# this will throw an error as we have not given an argugement\u001b[0m\u001b[0;34m\u001b[0m\u001b[0;34m\u001b[0m\u001b[0;34m\u001b[0m\u001b[0m\n\u001b[1;32m      2\u001b[0m \u001b[0;34m\u001b[0m\u001b[0m\n\u001b[0;32m----> 3\u001b[0;31m \u001b[0mprint\u001b[0m\u001b[0;34m(\u001b[0m\u001b[0mgreeting_func\u001b[0m\u001b[0;34m(\u001b[0m\u001b[0;34m)\u001b[0m\u001b[0;34m)\u001b[0m\u001b[0;34m\u001b[0m\u001b[0;34m\u001b[0m\u001b[0m\n\u001b[0m",
      "\u001b[0;31mTypeError\u001b[0m: greeting_func() missing 1 required positional argument: 'greeting'"
     ]
    }
   ],
   "source": [
    "# this will throw an error as we have not given an argugement\n",
    "\n",
    "print(greeting_func())"
   ]
  },
  {
   "cell_type": "code",
   "execution_count": 35,
   "metadata": {},
   "outputs": [
    {
     "name": "stdout",
     "output_type": "stream",
     "text": [
      "Konichiwa Function\n"
     ]
    }
   ],
   "source": [
    "# now lets run the function with an arguement\n",
    "\n",
    "# note this needs to be a string not just an undefined variable or it will throw an error\n",
    "\n",
    "print(greeting_func('Konichiwa'))"
   ]
  },
  {
   "cell_type": "code",
   "execution_count": 42,
   "metadata": {},
   "outputs": [
    {
     "name": "stdout",
     "output_type": "stream",
     "text": [
      "Bonjour, Toby Function\n"
     ]
    }
   ],
   "source": [
    "# lets now look at adding a second arguement to the function\n",
    "\n",
    "def customised_greeting_func(greeting, name='You'):\n",
    "    return f'{greeting}, {name} Function'\n",
    "\n",
    "print(customised_greeting_func('Bonjour', 'Toby'))\n",
    "\n",
    "# note here we have overridden the second argument by passing our own string\n",
    "\n",
    "fore your keyword arguements"
   ]
  },
  {
   "cell_type": "code",
   "execution_count": 49,
   "metadata": {},
   "outputs": [],
   "source": [
    "# we can also use *args and **kwargs\n",
    "\n",
    "# note your required positional arguements need to come be\n",
    "\n",
    "def student_info(*args, **kwargs):\n",
    "    print(args)\n",
    "    print(kwargs)"
   ]
  },
  {
   "cell_type": "code",
   "execution_count": 53,
   "metadata": {},
   "outputs": [
    {
     "name": "stdout",
     "output_type": "stream",
     "text": [
      "('Computer_Science', 'Math')\n",
      "{'name': 'Toby', 'age': 21}\n"
     ]
    }
   ],
   "source": [
    "# we can see that the function will return a tuple and a dictionary\n",
    "\n",
    "student_info('Computer_Science', 'Math', name='Toby', age=21)"
   ]
  },
  {
   "cell_type": "code",
   "execution_count": 54,
   "metadata": {},
   "outputs": [],
   "source": [
    "# now if we set these as a list and a dict\n",
    "\n",
    "courses = ['Computer_Science', 'Math']\n",
    "info = {'name': 'Toby', 'age': 21}"
   ]
  },
  {
   "cell_type": "code",
   "execution_count": 55,
   "metadata": {},
   "outputs": [
    {
     "name": "stdout",
     "output_type": "stream",
     "text": [
      "(['Computer_Science', 'Math'], {'name': 'Toby', 'age': 21})\n",
      "{}\n"
     ]
    }
   ],
   "source": [
    "# this has taken them as positional arguements\n",
    "\n",
    "student_info(courses, info)"
   ]
  },
  {
   "cell_type": "code",
   "execution_count": 56,
   "metadata": {},
   "outputs": [
    {
     "name": "stdout",
     "output_type": "stream",
     "text": [
      "('Computer_Science', 'Math')\n",
      "{'name': 'Toby', 'age': 21}\n"
     ]
    }
   ],
   "source": [
    "# we can overcome this by adding * and **\n",
    "\n",
    "student_info(*courses, **info)"
   ]
  },
  {
   "cell_type": "code",
   "execution_count": 60,
   "metadata": {},
   "outputs": [],
   "source": [
    "# Number of days per month, first value placeholder for indexing purpose\n",
    "month_days = [0, 31, 28, 31, 30, 31, 30, 31, 31, 30, 31, 30, 31]\n",
    "\n",
    "def is_leap(year):\n",
    "    \"\"\"Return True for leap years, False for non-leap year\"\"\"\n",
    "    \n",
    "    return year % 4 == 0 and (year != 0 or year % 400 ==0)\n",
    "\n",
    "def days_in_month(year, month):\n",
    "    \"\"\"Return number of days in that month in that year\"\"\"\n",
    "    \n",
    "    if not 1 <= month <= 12:\n",
    "        return 'Invalid Month'\n",
    "    \n",
    "    if month == 2 and is_leap(year):\n",
    "        return 29\n",
    "    \n",
    "    return month_days[month]"
   ]
  },
  {
   "cell_type": "code",
   "execution_count": 61,
   "metadata": {},
   "outputs": [],
   "source": [
    "# the string within the function is a doc string which explains what the function does\n",
    "# this is good practice"
   ]
  },
  {
   "cell_type": "code",
   "execution_count": 71,
   "metadata": {},
   "outputs": [
    {
     "name": "stdout",
     "output_type": "stream",
     "text": [
      "True\n",
      "28\n"
     ]
    }
   ],
   "source": [
    "# 2020 is a leap year\n",
    "\n",
    "print(is_leap(2020))\n",
    "print(days_in_month(2019, 2))"
   ]
  },
  {
   "cell_type": "code",
   "execution_count": null,
   "metadata": {},
   "outputs": [],
   "source": []
  }
 ],
 "metadata": {
  "kernelspec": {
   "display_name": "Python 3",
   "language": "python",
   "name": "python3"
  },
  "language_info": {
   "codemirror_mode": {
    "name": "ipython",
    "version": 3
   },
   "file_extension": ".py",
   "mimetype": "text/x-python",
   "name": "python",
   "nbconvert_exporter": "python",
   "pygments_lexer": "ipython3",
   "version": "3.7.4"
  }
 },
 "nbformat": 4,
 "nbformat_minor": 2
}
